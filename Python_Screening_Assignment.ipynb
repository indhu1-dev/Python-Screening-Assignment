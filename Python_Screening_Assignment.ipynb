{
  "nbformat": 4,
  "nbformat_minor": 0,
  "metadata": {
    "colab": {
      "name": "Python Screening Assignment.ipynb",
      "provenance": []
    },
    "kernelspec": {
      "name": "python3",
      "display_name": "Python 3"
    },
    "language_info": {
      "name": "python"
    }
  },
  "cells": [
    {
      "cell_type": "markdown",
      "source": [
        "Create a function in python to read the text file and replace specific content\n",
        "of the file."
      ],
      "metadata": {
        "id": "luuin2ueHQtc"
      }
    },
    {
      "cell_type": "code",
      "source": [
        "f=open('example.txt','w')\n",
        "f.write('This is a placement assignment')\n",
        "f.close()"
      ],
      "metadata": {
        "id": "ppdtcnOGHeZC"
      },
      "execution_count": 21,
      "outputs": []
    },
    {
      "cell_type": "code",
      "source": [
        "def rep(replace):\n",
        "    f=open('example.txt','r+')\n",
        "    r=f.read()\n",
        "    re=r.replace('placement',replace)\n",
        "    f.truncate()\n",
        "    f.seek(0)\n",
        "    f.write(re)\n",
        "    f.close()\n",
        "    return re"
      ],
      "metadata": {
        "id": "u0xaoyQmHjeU"
      },
      "execution_count": 22,
      "outputs": []
    },
    {
      "cell_type": "code",
      "source": [
        "rep('screening')"
      ],
      "metadata": {
        "colab": {
          "base_uri": "https://localhost:8080/",
          "height": 35
        },
        "id": "nd2srGUCHon7",
        "outputId": "30f6fb09-9914-4b3d-bb56-3803975ff0b4"
      },
      "execution_count": 23,
      "outputs": [
        {
          "output_type": "execute_result",
          "data": {
            "text/plain": [
              "'This is a screening assignment'"
            ],
            "application/vnd.google.colaboratory.intrinsic+json": {
              "type": "string"
            }
          },
          "metadata": {},
          "execution_count": 23
        }
      ]
    },
    {
      "cell_type": "markdown",
      "source": [
        "### **python abstract class**"
      ],
      "metadata": {
        "id": "D7k7FEWXA_tO"
      }
    },
    {
      "cell_type": "markdown",
      "source": [
        "In object-oriented programming, an abstract class is a class that cannot be instantiated. However, you can create classes that inherit from an abstract class.\n",
        "\n",
        "Typically, you use an abstract class to create a blueprint for other classes.\n",
        "\n",
        "Similarly, an abstract method is an method without an implementation. An abstract class may or may not include abstract methods.\n",
        "\n",
        "Python doesn’t directly support abstract classes. But it does offer a module that allows you to define abstract classes.\n",
        "\n",
        "To define an abstract class, you use the abc (abstract base class) module.\n",
        "\n",
        "The abc module provides you with the infrastructure for defining abstract base classes."
      ],
      "metadata": {
        "id": "U66tpaFWBG4s"
      }
    },
    {
      "cell_type": "markdown",
      "source": [
        "Python abstract class example\n",
        "Suppose that you need to develop a payroll program for a company.\n",
        "\n",
        "The company has two groups of employees: full-time employees and hourly employees. The full-time employees get a fixed salary while the hourly employees get paid by hourly wages for their services.\n",
        "\n",
        "The payroll program needs to print out a payroll that includes employee names and their monthly salaries.\n",
        "\n",
        "To model the payroll program in an object-oriented way, you may come up with the following classes: Employee, FulltimeEmployee, HourlyEmployee, and Payroll.\n",
        "\n",
        "To structure the program, we’ll use modules, where each class is placed in a separate module (or file).\n",
        "\n",
        "The Employee class\n",
        "The Employee class represents an employee, either full-time or hourly. The Employee class should be an abstract class because there’re only full-time employees and hourly employees, no general employees exist.\n",
        "\n",
        "The Employee class should have a property that returns the full name of an employee. In addition, it should have a method that calculates salary. The method for calculating salary should be an abstract method.\n",
        "\n",
        "The following defines the Employee abstract class:"
      ],
      "metadata": {
        "id": "kMW3zcIXBaha"
      }
    },
    {
      "cell_type": "code",
      "source": [
        "from abc import ABC, abstractmethod\n",
        "\n",
        "\n",
        "class Employee(ABC):\n",
        "    def __init__(self, first_name, last_name):\n",
        "        self.first_name = first_name\n",
        "        self.last_name = last_name\n",
        "\n",
        "    @property\n",
        "    def full_name(self):\n",
        "        return f\"{self.first_name} {self.last_name}\"\n",
        "\n",
        "    @abstractmethod\n",
        "    def get_salary(self):\n",
        "        pass"
      ],
      "metadata": {
        "id": "VXvWHqaTBbWv"
      },
      "execution_count": 2,
      "outputs": []
    },
    {
      "cell_type": "code",
      "source": [
        "class FulltimeEmployee(Employee):\n",
        "    def __init__(self, first_name, last_name, salary):\n",
        "        super().__init__(first_name, last_name)\n",
        "        self.salary = salary\n",
        "\n",
        "    def get_salary(self):\n",
        "        return self.salary"
      ],
      "metadata": {
        "id": "hUDw3XcCBlVW"
      },
      "execution_count": 3,
      "outputs": []
    },
    {
      "cell_type": "code",
      "source": [
        "class HourlyEmployee(Employee):\n",
        "    def __init__(self, first_name, last_name, worked_hours, rate):\n",
        "        super().__init__(first_name, last_name)\n",
        "        self.worked_hours = worked_hours\n",
        "        self.rate = rate\n",
        "\n",
        "    def get_salary(self):\n",
        "        return self.worked_hours * self.rate"
      ],
      "metadata": {
        "id": "_Dh06G9aBqvK"
      },
      "execution_count": 4,
      "outputs": []
    },
    {
      "cell_type": "code",
      "source": [
        "class Payroll:\n",
        "    def __init__(self):\n",
        "        self.employee_list = []\n",
        "\n",
        "    def add(self, employee):\n",
        "        self.employee_list.append(employee)\n",
        "\n",
        "    def print(self):\n",
        "        for e in self.employee_list:\n",
        "            print(f\"{e.full_name} \\t ${e.get_salary()}\")"
      ],
      "metadata": {
        "id": "JLhYioeQBuTq"
      },
      "execution_count": 5,
      "outputs": []
    },
    {
      "cell_type": "code",
      "source": [
        "payroll = Payroll()"
      ],
      "metadata": {
        "id": "KqEVE7eWB49S"
      },
      "execution_count": 9,
      "outputs": []
    },
    {
      "cell_type": "code",
      "source": [
        "payroll.add(FulltimeEmployee('John', 'Doe', 6000))"
      ],
      "metadata": {
        "id": "KgB3OAJhChGy"
      },
      "execution_count": 10,
      "outputs": []
    },
    {
      "cell_type": "code",
      "source": [
        "payroll.add(FulltimeEmployee('Jane', 'Doe', 6500))\n",
        "payroll.add(HourlyEmployee('Jenifer', 'Smith', 200, 50))"
      ],
      "metadata": {
        "id": "Jg_iMOk5C22L"
      },
      "execution_count": 11,
      "outputs": []
    },
    {
      "cell_type": "code",
      "source": [
        "payroll.print()"
      ],
      "metadata": {
        "colab": {
          "base_uri": "https://localhost:8080/"
        },
        "id": "9ax6OXkzDCHv",
        "outputId": "eb006109-34a9-4a06-ca61-dc96a8b3361f"
      },
      "execution_count": 12,
      "outputs": [
        {
          "output_type": "stream",
          "name": "stdout",
          "text": [
            "John Doe \t $6000\n",
            "Jane Doe \t $6500\n",
            "Jenifer Smith \t $10000\n"
          ]
        }
      ]
    },
    {
      "cell_type": "markdown",
      "source": [
        "\n",
        "\n",
        "---\n",
        "\n",
        "\n",
        "\n",
        "---\n",
        "\n",
        "\n",
        "\n",
        "---\n",
        "\n",
        "\n",
        "\n",
        "---\n",
        "\n",
        "\n",
        "\n",
        "---\n",
        "\n"
      ],
      "metadata": {
        "id": "rfWk9t_cGGNz"
      }
    },
    {
      "cell_type": "markdown",
      "source": [
        "Multiple inheritance in python"
      ],
      "metadata": {
        "id": "Xw1DxK0aEBsL"
      }
    },
    {
      "cell_type": "markdown",
      "source": [
        "Multiple inheritance is a feature  in which an object or class can inherit characteristics and features from more than one parent object or the parent class ."
      ],
      "metadata": {
        "id": "y6Eqz3yCEb2S"
      }
    },
    {
      "cell_type": "code",
      "source": [
        "class Car():\n",
        "    def Benz(self):\n",
        "        print(\" This is a Benz Car \")\n",
        "class Bike():\n",
        "    def Bmw(self):\n",
        "        print(\" This is a BMW Bike \")\n",
        "class Bus():\n",
        "    def Volvo(self):\n",
        "        print(\" This is a Volvo Bus \")\n",
        "class Truck():\n",
        "    def Eicher(self):\n",
        "        print(\" This is a Eicher Truck \")\n",
        "class Plane():\n",
        "    def Indigo(self):\n",
        "        print(\" This is a Indigo plane \")\n",
        "class Transport(Car,Bike,Bus,Truck,Plane):\n",
        "    def Main(self):\n",
        "        print(\"This is the Main Class\")\n",
        "B=Transport()\n",
        "B.Benz()\n",
        "B.Bmw()\n",
        "B.Volvo()\n",
        "B.Eicher()\n",
        "B.Indigo()\n",
        "B.Main()"
      ],
      "metadata": {
        "colab": {
          "base_uri": "https://localhost:8080/"
        },
        "id": "ZXapjoKIEhbM",
        "outputId": "32c8a699-9014-4ca3-9feb-23c800df1e64"
      },
      "execution_count": 13,
      "outputs": [
        {
          "output_type": "stream",
          "name": "stdout",
          "text": [
            " This is a Benz Car \n",
            " This is a BMW Bike \n",
            " This is a Volvo Bus \n",
            " This is a Eicher Truck \n",
            " This is a Indigo plane \n",
            "This is the Main Class\n"
          ]
        }
      ]
    },
    {
      "cell_type": "markdown",
      "source": [
        "Here we have four classes named, Car,Bike,Bus,Truck,Plane that are called as the base classes. We also have one derived class Transport hat twill be holding all the data of the Car,Bike,Truck,Plane, and Transport.\n",
        "\n",
        "So, that is why we will be creating the object for the derived class, i.e., the Transport through which we can access all the data of the base class and derived class."
      ],
      "metadata": {
        "id": "tgOmK4RUE2aL"
      }
    },
    {
      "cell_type": "markdown",
      "source": [
        "\n",
        "\n",
        "---\n",
        "\n",
        "\n",
        "\n",
        "---\n",
        "\n",
        "\n",
        "\n",
        "---\n",
        "\n"
      ],
      "metadata": {
        "id": "-yC_hHKeGDPa"
      }
    },
    {
      "cell_type": "markdown",
      "source": [
        "Decarators in python\n",
        "\n",
        "\n",
        "\n"
      ],
      "metadata": {
        "id": "V4SHoiS3FzST"
      }
    },
    {
      "cell_type": "markdown",
      "source": [
        "Functions and methods are called callable as they can be called.\n",
        "\n",
        "In fact, any object which implements the special __call__() method is termed callable. So, in the most basic sense, a decorator is a callable that returns a callable.\n",
        "\n",
        "Basically, a decorator takes in a function, adds some functionality and returns it."
      ],
      "metadata": {
        "id": "P_cBfS3AF4AL"
      }
    },
    {
      "cell_type": "code",
      "source": [
        "def make_pretty(func):\n",
        "    def inner():\n",
        "        print(\"I got decorated\")\n",
        "        func()\n",
        "    return inner\n",
        "\n",
        "\n",
        "def ordinary():\n",
        "    print(\"I am ordinary\")"
      ],
      "metadata": {
        "id": "BTVSCrB9F4om"
      },
      "execution_count": 14,
      "outputs": []
    },
    {
      "cell_type": "code",
      "source": [
        "ordinary()"
      ],
      "metadata": {
        "colab": {
          "base_uri": "https://localhost:8080/"
        },
        "id": "US9AHojnGKgp",
        "outputId": "dbb51bf2-ccae-48a6-fca9-2083f9b0e20e"
      },
      "execution_count": 15,
      "outputs": [
        {
          "output_type": "stream",
          "name": "stdout",
          "text": [
            "I am ordinary\n"
          ]
        }
      ]
    },
    {
      "cell_type": "code",
      "source": [
        "pretty=make_pretty(ordinary)"
      ],
      "metadata": {
        "id": "2gyNf06uGMVo"
      },
      "execution_count": 17,
      "outputs": []
    },
    {
      "cell_type": "code",
      "source": [
        "pretty()"
      ],
      "metadata": {
        "colab": {
          "base_uri": "https://localhost:8080/"
        },
        "id": "MO3iWmdlGTQ8",
        "outputId": "7165b5ed-8835-488d-8e58-7a4d9c8a948e"
      },
      "execution_count": 18,
      "outputs": [
        {
          "output_type": "stream",
          "name": "stdout",
          "text": [
            "I got decorated\n",
            "I am ordinary\n"
          ]
        }
      ]
    },
    {
      "cell_type": "markdown",
      "source": [
        "We can use the @ symbol along with the name of the decorator function and place it above the definition of the function to be decorated."
      ],
      "metadata": {
        "id": "ihRtGcg5Gdh0"
      }
    },
    {
      "cell_type": "code",
      "source": [
        "@make_pretty\n",
        "def ordinary():\n",
        "    print(\"I am ordinary\")"
      ],
      "metadata": {
        "id": "cdlpLXcaGeHA"
      },
      "execution_count": 19,
      "outputs": []
    },
    {
      "cell_type": "markdown",
      "source": [
        "is equal to"
      ],
      "metadata": {
        "id": "Vu-g6qMbGtlL"
      }
    },
    {
      "cell_type": "code",
      "source": [
        "def ordinary():\n",
        "    print(\"I am ordinary\")\n",
        "ordinary = make_pretty(ordinary)"
      ],
      "metadata": {
        "id": "5k59RuUJGrPD"
      },
      "execution_count": null,
      "outputs": []
    },
    {
      "cell_type": "code",
      "source": [
        ""
      ],
      "metadata": {
        "id": "1Vl0d0NXGzKr"
      },
      "execution_count": null,
      "outputs": []
    },
    {
      "cell_type": "code",
      "source": [
        "ordinary()"
      ],
      "metadata": {
        "colab": {
          "base_uri": "https://localhost:8080/"
        },
        "id": "2nAgDTuRGism",
        "outputId": "9f4beb54-14f7-4d4c-8b61-4451d2dd310b"
      },
      "execution_count": 20,
      "outputs": [
        {
          "output_type": "stream",
          "name": "stdout",
          "text": [
            "I got decorated\n",
            "I am ordinary\n"
          ]
        }
      ]
    },
    {
      "cell_type": "code",
      "source": [
        ""
      ],
      "metadata": {
        "id": "eHx46I9PGnwC"
      },
      "execution_count": null,
      "outputs": []
    }
  ]
}